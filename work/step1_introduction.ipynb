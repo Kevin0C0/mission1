{
 "cells": [
  {
   "cell_type": "code",
   "execution_count": 1,
   "metadata": {},
   "outputs": [
    {
     "name": "stdout",
     "output_type": "stream",
     "text": [
      "HELLOW WORLD\n"
     ]
    }
   ],
   "source": [
    "print(\"HELLOW WORLD\")"
   ]
  },
  {
   "cell_type": "code",
   "execution_count": 6,
   "metadata": {},
   "outputs": [
    {
     "name": "stdout",
     "output_type": "stream",
     "text": [
      "3\n",
      "iamStringValue\n"
     ]
    }
   ],
   "source": [
    "iamInt = 0\n",
    "iamString = \"我們要變得很厲害\"\n",
    "\n",
    "for i in range(10):\n",
    "    iamInt= iamInt + 1 \n",
    "    \n",
    "a = [1,2,3,4,5]\n",
    "b = { 'iamStringKey' : \"iamStringValue\" } \n",
    "\n",
    "print(a[2])\n",
    "print(b['iamStringKey'])"
   ]
  },
  {
   "cell_type": "code",
   "execution_count": 2,
   "metadata": {},
   "outputs": [
    {
     "name": "stdout",
     "output_type": "stream",
     "text": [
      "ming\n",
      "18\n"
     ]
    }
   ],
   "source": [
    "class Person():\n",
    "    def __init__(self,name,age):\n",
    "        self.name = name \n",
    "        self.age = age\n",
    "    \n",
    "    def get_all(self):\n",
    "        print(self.name)\n",
    "        print(self.age)\n",
    "\n",
    "\n",
    "xiaoMing=Person(\"ming\",18)\n",
    "xiaoMing.get_all()"
   ]
  },
  {
   "cell_type": "code",
   "execution_count": 3,
   "metadata": {},
   "outputs": [
    {
     "data": {
      "text/plain": [
       "'<HTML><HEAD>\\n<meta http-equiv=Content-Type content=\"text/html; charset=big5\">\\n<title>-=織夢天堂=- 文章列表</title>\\n<script language=javascript>\\n  function mOver(obj) {obj.bgColor=\\'#808080\\';}\\n  function mOut(obj) {obj.bgColor=\\'#000000\\';}\\n</script>\\n<style type=text/css>\\n  PRE {font-size: 15pt; line-height: 15pt; font-weight: lighter; background-color: #000000; color: #C0C0C0;}\\n  TD  {font-size: 15pt; line-height: 15pt; font-weight: lighter;}\\n</style>\\n<link rel=stylesheet href=/img?ansi.css type=text/css>\\n</head>\\n<BODY bgcolor=#000000 text=#ffffff link=#00ffff vlink=#c0c0c0 alink=#ff0000><CENTER>\\n<a href=/><img src=/img?site.gif border=0></a><br>\\n<input type=image src=/img?back.gif onclick=\"javascript:history.go(-1);\"> / <a href=/class><img src=/img?class.gif border=0></a> / <a href=/brdlist><img src=/img?board.gif border=0></a> / <a href=/fvrlist><img src=/img?favor.gif border=0></a> / <a href=/mbox><img src=/img?mbox.gif border=0></a> / <a href=/usrlist><img src=/img?user.gif border=0></a> / <a href=telnet://bbs.math.ncu.edu.tw><img src=/img?telnet.gif border=0></a><br>\\n<br>\\n<table cellspacing=0 cellpadding=1 border=0 width=760>\\n<tr bgcolor=#000070>\\n  <td width=20% align=center><a href=?CPP_DS&1>上50篇</a></td>\\n  <td width=20%></td>\\n  <td width=20% align=center><a href=/dopost?CPP_DS target=_blank>發表文章</a></td>\\n  <td width=20% align=center><a href=/gem?CPP_DS>精華區</a></td>\\n  <td width=20% align=center><a href=/brdlist>看板列表</a>&nbsp;<a href=/rss?CPP_DS><img border=0 src=/img?xml.gif alt=\"RSS 訂閱這個看板\"></a></td>\\n</tr></table><br>\\n<table cellspacing=0 cellpadding=4 border=0>\\n<tr bgcolor=#a000a0>\\n  <td width=15>標</td>\\n  <td width=15>刪</td>\\n  <td width=50>編號</td>\\n  <td width=10>m</td>\\n  <td width=10>&nbsp;</td>\\n  <td width=50>日期</td>\\n  <td width=100>作者</td>\\n  <td width=400>標題</td>\\n</tr>\\n<tr onmouseover=mOver(this); onmouseout=mOut(this);>\\n  <td><a href=/mpost?CPP_DS&51&1353470415><img src=/img?mark.gif border=0></a></td>\\n  <td><a href=/dpost?CPP_DS&51&1353470415><img src=/img?del.gif border=0></a></td>\\n  <td>51</td>\\n  <td></td>\\n  <td><font color=\\'red\\'>1</font></td>\\n  <td>11/21</td>\\n  <td><a href=/query?weihan>weihan</a></td>\\n  <td><a href=/bmore?CPP_DS&51>萬年曆問題</td>\\n</tr>\\n<tr onmouseover=mOver(this); onmouseout=mOut(this);>\\n  <td><a href=/mpost?CPP_DS&52&1362538902><img src=/img?mark.gif border=0></a></td>\\n  <td><a href=/dpost?CPP_DS&52&1362538902><img src=/img?del.gif border=0></a></td>\\n  <td>52</td>\\n  <td></td>\\n  <td></td>\\n  <td>03/06</td>\\n  <td><a href=/query?weihan>weihan</a></td>\\n  <td><a href=/bmore?CPP_DS&52>有關於 unicode 內的字</td>\\n</tr>\\n<tr onmouseover=mOver(this); onmouseout=mOut(this);>\\n  <td><a href=/mpost?CPP_DS&53&1362643399><img src=/img?mark.gif border=0></a></td>\\n  <td><a href=/dpost?CPP_DS&53&1362643399><img src=/img?del.gif border=0></a></td>\\n  <td>53</td>\\n  <td></td>\\n  <td><font color=\\'red\\'>2</font></td>\\n  <td>03/07</td>\\n  <td><a href=/query?weihan>weihan</a></td>\\n  <td><a href=/bmore?CPP_DS&53>Re: 有關於 unicode 內的字</td>\\n</tr>\\n<tr onmouseover=mOver(this); onmouseout=mOut(this);>\\n  <td><a href=/mpost?CPP_DS&54&1364604677><img src=/img?mark.gif border=0></a></td>\\n  <td><a href=/dpost?CPP_DS&54&1364604677><img src=/img?del.gif border=0></a></td>\\n  <td>54</td>\\n  <td></td>\\n  <td></td>\\n  <td>03/30</td>\\n  <td><a href=/query?weihan>weihan</a></td>\\n  <td><a href=/bmore?CPP_DS&54>如何使用寬字元於輸出/輸入串流迭代器</td>\\n</tr>\\n<tr onmouseover=mOver(this); onmouseout=mOut(this);>\\n  <td><a href=/mpost?CPP_DS&55&1365302286><img src=/img?mark.gif border=0></a></td>\\n  <td><a href=/dpost?CPP_DS&55&1365302286><img src=/img?del.gif border=0></a></td>\\n  <td>55</td>\\n  <td></td>\\n  <td></td>\\n  <td>04/07</td>\\n  <td><a href=/query?weihan>weihan</a></td>\\n  <td><a href=/bmore?CPP_DS&55>使用 setw 設定寬字元的輸出寬度</td>\\n</tr>\\n<tr onmouseover=mOver(this); onmouseout=mOut(this);>\\n  <td><a href=/mpost?CPP_DS&56&1365382655><img src=/img?mark.gif border=0></a></td>\\n  <td><a href=/dpost?CPP_DS&56&1365382655><img src=/img?del.gif border=0></a></td>\\n  <td>56</td>\\n  <td></td>\\n  <td></td>\\n  <td>04/08</td>\\n  <td><a href=/query?weihan>weihan</a></td>\\n  <td><a href=/bmore?CPP_DS&56>撰寫控制寬字串輸出寬度的輸出格式處理器 </td>\\n</tr>\\n<tr onmouseover=mOver(this); onmouseout=mOut(this);>\\n  <td><a href=/mpost?CPP_DS&57&1367454042><img src=/img?mark.gif border=0></a></td>\\n  <td><a href=/dpost?CPP_DS&57&1367454042><img src=/img?del.gif border=0></a></td>\\n  <td>57</td>\\n  <td></td>\\n  <td><font color=\\'red\\'>5</font></td>\\n  <td>05/02</td>\\n  <td><a href=/query?weihan>weihan</a></td>\\n  <td><a href=/bmore?CPP_DS&57>計概二要教的程式語言</td>\\n</tr>\\n<tr onmouseover=mOver(this); onmouseout=mOut(this);>\\n  <td><a href=/mpost?CPP_DS&58&1379289525><img src=/img?mark.gif border=0></a></td>\\n  <td><a href=/dpost?CPP_DS&58&1379289525><img src=/img?del.gif border=0></a></td>\\n  <td>58</td>\\n  <td></td>\\n  <td></td>\\n  <td>09/16</td>\\n  <td><a href=/query?weihan>weihan</a></td>\\n  <td><a href=/bmore?CPP_DS&58>binary-coded decimal</td>\\n</tr>\\n<tr onmouseover=mOver(this); onmouseout=mOut(this);>\\n  <td><a href=/mpost?CPP_DS&59&1387529607><img src=/img?mark.gif border=0></a></td>\\n  <td><a href=/dpost?CPP_DS&59&1387529607><img src=/img?del.gif border=0></a></td>\\n  <td>59</td>\\n  <td></td>\\n  <td><font color=\\'red\\'>6</font></td>\\n  <td>12/20</td>\\n  <td><a href=/query?weihan>weihan</a></td>\\n  <td><a href=/bmore?CPP_DS&59>Re: 計概二要教的程式語言</td>\\n</tr>\\n<tr onmouseover=mOver(this); onmouseout=mOut(this);>\\n  <td><a href=/mpost?CPP_DS&60&1389236443><img src=/img?mark.gif border=0></a></td>\\n  <td><a href=/dpost?CPP_DS&60&1389236443><img src=/img?del.gif border=0></a></td>\\n  <td>60</td>\\n  <td></td>\\n  <td><font color=\\'red\\'>3</font></td>\\n  <td>01/09</td>\\n  <td><a href=/query?weihan>weihan</a></td>\\n  <td><a href=/bmore?CPP_DS&60>Unicode 內的字符順序</td>\\n</tr>\\n<tr onmouseover=mOver(this); onmouseout=mOut(this);>\\n  <td><a href=/mpost?CPP_DS&61&1401925872><img src=/img?mark.gif border=0></a></td>\\n  <td><a href=/dpost?CPP_DS&61&1401925872><img src=/img?del.gif border=0></a></td>\\n  <td>61</td>\\n  <td></td>\\n  <td></td>\\n  <td>06/05</td>\\n  <td><a href=/query?weihan>weihan</a></td>\\n  <td><a href=/bmore?CPP_DS&61>python 的一些補充內容</td>\\n</tr>\\n<tr onmouseover=mOver(this); onmouseout=mOut(this);>\\n  <td><a href=/mpost?CPP_DS&62&1401946354><img src=/img?mark.gif border=0></a></td>\\n  <td><a href=/dpost?CPP_DS&62&1401946354><img src=/img?del.gif border=0></a></td>\\n  <td>62</td>\\n  <td></td>\\n  <td><font color=\\'red\\'>1</font></td>\\n  <td>06/05</td>\\n  <td><a href=/query?weihan>weihan</a></td>\\n  <td><a href=/bmore?CPP_DS&62>matlab 與 python 的比較</td>\\n</tr>\\n<tr onmouseover=mOver(this); onmouseout=mOut(this);>\\n  <td><a href=/mpost?CPP_DS&63&1401961110><img src=/img?mark.gif border=0></a></td>\\n  <td><a href=/dpost?CPP_DS&63&1401961110><img src=/img?del.gif border=0></a></td>\\n  <td>63</td>\\n  <td></td>\\n  <td><font color=\\'red\\'>1</font></td>\\n  <td>06/05</td>\\n  <td><a href=/query?vitaminXD>vitaminXD</a></td>\\n  <td><a href=/bmore?CPP_DS&63>[分享] 神秘帥哥對想學習程式設計的學弟妹之良言</td>\\n</tr>\\n<tr onmouseover=mOver(this); onmouseout=mOut(this);>\\n  <td><a href=/mpost?CPP_DS&64&1402537003><img src=/img?mark.gif border=0></a></td>\\n  <td><a href=/dpost?CPP_DS&64&1402537003><img src=/img?del.gif border=0></a></td>\\n  <td>64</td>\\n  <td></td>\\n  <td></td>\\n  <td>06/12</td>\\n  <td><a href=/query?weihan>weihan</a></td>\\n  <td><a href=/bmore?CPP_DS&64>本學期計概二的教學雜想</td>\\n</tr>\\n<tr onmouseover=mOver(this); onmouseout=mOut(this);>\\n  <td><a href=/mpost?CPP_DS&65&1403159222><img src=/img?mark.gif border=0></a></td>\\n  <td><a href=/dpost?CPP_DS&65&1403159222><img src=/img?del.gif border=0></a></td>\\n  <td>65</td>\\n  <td></td>\\n  <td></td>\\n  <td>06/19</td>\\n  <td><a href=/query?weihan>weihan</a></td>\\n  <td><a href=/bmore?CPP_DS&65>計概二與程式語言及其應用的差異</td>\\n</tr>\\n<tr onmouseover=mOver(this); onmouseout=mOut(this);>\\n  <td><a href=/mpost?CPP_DS&66&1417073662><img src=/img?mark.gif border=0></a></td>\\n  <td><a href=/dpost?CPP_DS&66&1417073662><img src=/img?del.gif border=0></a></td>\\n  <td>66</td>\\n  <td></td>\\n  <td></td>\\n  <td>11/27</td>\\n  <td><a href=/query?weihan>weihan</a></td>\\n  <td><a href=/bmore?CPP_DS&66>一些感想</td>\\n</tr>\\n<tr onmouseover=mOver(this); onmouseout=mOut(this);>\\n  <td><a href=/mpost?CPP_DS&67&1421378415><img src=/img?mark.gif border=0></a></td>\\n  <td><a href=/dpost?CPP_DS&67&1421378415><img src=/img?del.gif border=0></a></td>\\n  <td>67</td>\\n  <td></td>\\n  <td><font color=\\'red\\'>3</font></td>\\n  <td>01/16</td>\\n  <td><a href=/query?weihan>weihan</a></td>\\n  <td><a href=/bmore?CPP_DS&67>[公告] 有關程式設計專題課</td>\\n</tr>\\n<tr onmouseover=mOver(this); onmouseout=mOut(this);>\\n  <td><a href=/mpost?CPP_DS&68&1426485125><img src=/img?mark.gif border=0></a></td>\\n  <td><a href=/dpost?CPP_DS&68&1426485125><img src=/img?del.gif border=0></a></td>\\n  <td>68</td>\\n  <td></td>\\n  <td></td>\\n  <td>03/16</td>\\n  <td><a href=/query?vealyghost>vealyghost</a></td>\\n  <td><a href=/bmore?CPP_DS&68>[公告] 關於編譯環境(學校工作站的使用方法)</td>\\n</tr>\\n<tr onmouseover=mOver(this); onmouseout=mOut(this);>\\n  <td><a href=/mpost?CPP_DS&69&1429068065><img src=/img?mark.gif border=0></a></td>\\n  <td><a href=/dpost?CPP_DS&69&1429068065><img src=/img?del.gif border=0></a></td>\\n  <td>69</td>\\n  <td></td>\\n  <td></td>\\n  <td>04/15</td>\\n  <td><a href=/query?weihan>weihan</a></td>\\n  <td><a href=/bmore?CPP_DS&69>線條表示的數字</td>\\n</tr>\\n<tr onmouseover=mOver(this); onmouseout=mOut(this);>\\n  <td><a href=/mpost?CPP_DS&70&1457939478><img src=/img?mark.gif border=0></a></td>\\n  <td><a href=/dpost?CPP_DS&70&1457939478><img src=/img?del.gif border=0></a></td>\\n  <td>70</td>\\n  <td></td>\\n  <td></td>\\n  <td>03/14</td>\\n  <td><a href=/query?weihan>weihan</a></td>\\n  <td><a href=/bmore?CPP_DS&70>一個有關無號整數的小錯誤</td>\\n</tr>\\n<tr onmouseover=mOver(this); onmouseout=mOut(this);>\\n  <td><a href=/mpost?CPP_DS&71&1459321025><img src=/img?mark.gif border=0></a></td>\\n  <td><a href=/dpost?CPP_DS&71&1459321025><img src=/img?del.gif border=0></a></td>\\n  <td>71</td>\\n  <td></td>\\n  <td></td>\\n  <td>03/30</td>\\n  <td><a href=/query?weihan>weihan</a></td>\\n  <td><a href=/bmore?CPP_DS&71>[新聞] 學好程式再也不是選擇了，而是基本能力，你還能</td>\\n</tr>\\n<tr onmouseover=mOver(this); onmouseout=mOut(this);>\\n  <td><a href=/mpost?CPP_DS&72&1538709429><img src=/img?mark.gif border=0></a></td>\\n  <td><a href=/dpost?CPP_DS&72&1538709429><img src=/img?del.gif border=0></a></td>\\n  <td>72</td>\\n  <td></td>\\n  <td></td>\\n  <td>10/05</td>\\n  <td><a href=/query?weihan>weihan</a></td>\\n  <td><a href=/bmore?CPP_DS&72>[作業] 程應第一份作業</td>\\n</tr>\\n<tr onmouseover=mOver(this); onmouseout=mOut(this);>\\n  <td><a href=/mpost?CPP_DS&73&1538724318><img src=/img?mark.gif border=0></a></td>\\n  <td><a href=/dpost?CPP_DS&73&1538724318><img src=/img?del.gif border=0></a></td>\\n  <td>73</td>\\n  <td></td>\\n  <td></td>\\n  <td>10/05</td>\\n  <td><a href=/query?LeoLee>LeoLee</a></td>\\n  <td><a href=/bmore?CPP_DS&73>[公告] 10/5 程應上課範例</td>\\n</tr>\\n<tr onmouseover=mOver(this); onmouseout=mOut(this);>\\n  <td><a href=/mpost?CPP_DS&74&1538900676><img src=/img?mark.gif border=0></a></td>\\n  <td><a href=/dpost?CPP_DS&74&1538900676><img src=/img?del.gif border=0></a></td>\\n  <td>74</td>\\n  <td></td>\\n  <td></td>\\n  <td>10/07</td>\\n  <td><a href=/query?weihan>weihan</a></td>\\n  <td><a href=/bmore?CPP_DS&74>[公告] 程應第一次小考暖身題</td>\\n</tr>\\n<tr onmouseover=mOver(this); onmouseout=mOut(this);>\\n  <td><a href=/mpost?CPP_DS&75&1539049276><img src=/img?mark.gif border=0></a></td>\\n  <td><a href=/dpost?CPP_DS&75&1539049276><img src=/img?del.gif border=0></a></td>\\n  <td>75</td>\\n  <td></td>\\n  <td></td>\\n  <td>10/09</td>\\n  <td><a href=/query?LeoLee>LeoLee</a></td>\\n  <td><a href=/bmore?CPP_DS&75>[公告] 1071 程應 編輯環境建議及作業繳交</td>\\n</tr>\\n<tr onmouseover=mOver(this); onmouseout=mOut(this);>\\n  <td><a href=/mpost?CPP_DS&76&1539322266><img src=/img?mark.gif border=0></a></td>\\n  <td><a href=/dpost?CPP_DS&76&1539322266><img src=/img?del.gif border=0></a></td>\\n  <td>76</td>\\n  <td></td>\\n  <td></td>\\n  <td>10/12</td>\\n  <td><a href=/query?weihan>weihan</a></td>\\n  <td><a href=/bmore?CPP_DS&76>[作業] 程應第二份作業</td>\\n</tr>\\n<tr onmouseover=mOver(this); onmouseout=mOut(this);>\\n  <td><a href=/mpost?CPP_DS&77&1539493389><img src=/img?mark.gif border=0></a></td>\\n  <td><a href=/dpost?CPP_DS&77&1539493389><img src=/img?del.gif border=0></a></td>\\n  <td>77</td>\\n  <td></td>\\n  <td></td>\\n  <td>10/14</td>\\n  <td><a href=/query?weihan>weihan</a></td>\\n  <td><a href=/bmore?CPP_DS&77>[公告] 程應第二次暖身題</td>\\n</tr>\\n<tr onmouseover=mOver(this); onmouseout=mOut(this);>\\n  <td><a href=/mpost?CPP_DS&78&1539670555><img src=/img?mark.gif border=0></a></td>\\n  <td><a href=/dpost?CPP_DS&78&1539670555><img src=/img?del.gif border=0></a></td>\\n  <td>78</td>\\n  <td></td>\\n  <td></td>\\n  <td>10/16</td>\\n  <td><a href=/query?LeoLee>LeoLee</a></td>\\n  <td><a href=/bmore?CPP_DS&78>[公告] 10/12 程應上課範例</td>\\n</tr>\\n<tr onmouseover=mOver(this); onmouseout=mOut(this);>\\n  <td><a href=/mpost?CPP_DS&79&1539937997><img src=/img?mark.gif border=0></a></td>\\n  <td><a href=/dpost?CPP_DS&79&1539937997><img src=/img?del.gif border=0></a></td>\\n  <td>79</td>\\n  <td></td>\\n  <td></td>\\n  <td>10/19</td>\\n  <td><a href=/query?weihan>weihan</a></td>\\n  <td><a href=/bmore?CPP_DS&79>[作業] 程應第三份作業</td>\\n</tr>\\n<tr onmouseover=mOver(this); onmouseout=mOut(this);>\\n  <td><a href=/mpost?CPP_DS&80&1540003424><img src=/img?mark.gif border=0></a></td>\\n  <td><a href=/dpost?CPP_DS&80&1540003424><img src=/img?del.gif border=0></a></td>\\n  <td>80</td>\\n  <td></td>\\n  <td></td>\\n  <td>10/20</td>\\n  <td><a href=/query?weihan>weihan</a></td>\\n  <td><a href=/bmore?CPP_DS&80>[公告] 程應第三次暖身題</td>\\n</tr>\\n<tr onmouseover=mOver(this); onmouseout=mOut(this);>\\n  <td><a href=/mpost?CPP_DS&81&1540208068><img src=/img?mark.gif border=0></a></td>\\n  <td><a href=/dpost?CPP_DS&81&1540208068><img src=/img?del.gif border=0></a></td>\\n  <td>81</td>\\n  <td></td>\\n  <td></td>\\n  <td>10/22</td>\\n  <td><a href=/query?LeoLee>LeoLee</a></td>\\n  <td><a href=/bmore?CPP_DS&81>[公告] 10/19 程應上課範例</td>\\n</tr>\\n<tr onmouseover=mOver(this); onmouseout=mOut(this);>\\n  <td><a href=/mpost?CPP_DS&82&1540532416><img src=/img?mark.gif border=0></a></td>\\n  <td><a href=/dpost?CPP_DS&82&1540532416><img src=/img?del.gif border=0></a></td>\\n  <td>82</td>\\n  <td></td>\\n  <td></td>\\n  <td>10/26</td>\\n  <td><a href=/query?weihan>weihan</a></td>\\n  <td><a href=/bmore?CPP_DS&82>[作業] 程應第四份作業</td>\\n</tr>\\n<tr onmouseover=mOver(this); onmouseout=mOut(this);>\\n  <td><a href=/mpost?CPP_DS&83&1540543674><img src=/img?mark.gif border=0></a></td>\\n  <td><a href=/dpost?CPP_DS&83&1540543674><img src=/img?del.gif border=0></a></td>\\n  <td>83</td>\\n  <td></td>\\n  <td></td>\\n  <td>10/26</td>\\n  <td><a href=/query?weihan>weihan</a></td>\\n  <td><a href=/bmore?CPP_DS&83>[公告] 程應第四次暖身題</td>\\n</tr>\\n</table>\\n<br>\\n<table cellspacing=0 cellpadding=1 border=0 width=760>\\n<tr bgcolor=#000070>\\n  <td width=20% align=center><a href=?CPP_DS&1>上50篇</a></td>\\n  <td width=20%></td>\\n  <td width=20% align=center><a href=/dopost?CPP_DS target=_blank>發表文章</a></td>\\n  <td width=20% align=center><a href=/gem?CPP_DS>精華區</a></td>\\n  <td width=20% align=center><a href=/brdlist>看板列表</a>&nbsp;<a href=/rss?CPP_DS><img border=0 src=/img?xml.gif alt=\"RSS 訂閱這個看板\"></a></td>\\n</tr></table><br>\\n</CENTER></BODY></HTML>\\n'"
      ]
     },
     "execution_count": 3,
     "metadata": {},
     "output_type": "execute_result"
    }
   ],
   "source": [
    "import requests\n",
    "r = requests.get('http://bbs.math.ncu.edu.tw/brd?CPP_DS')\n",
    "r.text"
   ]
  },
  {
   "cell_type": "code",
   "execution_count": null,
   "metadata": {},
   "outputs": [],
   "source": []
  }
 ],
 "metadata": {
  "kernelspec": {
   "display_name": "Python 3",
   "language": "python",
   "name": "python3"
  },
  "language_info": {
   "codemirror_mode": {
    "name": "ipython",
    "version": 3
   },
   "file_extension": ".py",
   "mimetype": "text/x-python",
   "name": "python",
   "nbconvert_exporter": "python",
   "pygments_lexer": "ipython3",
   "version": "3.6.3"
  }
 },
 "nbformat": 4,
 "nbformat_minor": 2
}
